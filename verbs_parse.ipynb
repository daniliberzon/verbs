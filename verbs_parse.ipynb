{
 "cells": [
  {
   "cell_type": "code",
   "execution_count": 1,
   "metadata": {},
   "outputs": [],
   "source": [
    "import requests\n",
    "import bs4\n",
    "import pandas as pd"
   ]
  },
  {
   "cell_type": "code",
   "execution_count": 3,
   "metadata": {},
   "outputs": [],
   "source": [
    "verbs = pd.read_csv('hebrew_verbs.csv', sep = ';')"
   ]
  },
  {
   "cell_type": "code",
   "execution_count": 4,
   "metadata": {},
   "outputs": [],
   "source": [
    "error_msg='BANNED'"
   ]
  },
  {
   "cell_type": "code",
   "execution_count": 22,
   "metadata": {},
   "outputs": [],
   "source": [
    "links = []"
   ]
  },
  {
   "cell_type": "code",
   "execution_count": 23,
   "metadata": {},
   "outputs": [
    {
     "name": "stdout",
     "output_type": "stream",
     "text": [
      "להשתנה\n",
      "להתאחדים\n",
      "להצתייעץ\n"
     ]
    }
   ],
   "source": [
    "n = 0\n",
    "for verb in verbs['Verb']:\n",
    "    if str(verb) != 'nan':\n",
    "        n += 1\n",
    "        req = requests.get('https://www.pealim.com/search/?q='+verb)\n",
    "        if req.status_code == 521:\n",
    "            print(error_msg)\n",
    "            print(n)\n",
    "            break\n",
    "        parser = bs4.BeautifulSoup(req.text, 'lxml')\n",
    "        div = parser.find('div',attrs={'class' : 'verb-search-lemma'})\n",
    "        if div:\n",
    "            for a in div.children:\n",
    "                link = a.get('href')\n",
    "                if link:\n",
    "                    links.append(link)\n",
    "                else:\n",
    "                    print('no link - ' + verb)\n",
    "        else:\n",
    "            print(verb)"
   ]
  },
  {
   "cell_type": "code",
   "execution_count": 24,
   "metadata": {},
   "outputs": [],
   "source": [
    "links = pd.DataFrame(links, columns=['Link'])\n",
    "links = links.drop_duplicates(subset = ['Link'])\n",
    "links.to_csv('links.csv')"
   ]
  },
  {
   "cell_type": "code",
   "execution_count": 35,
   "metadata": {},
   "outputs": [],
   "source": [
    "links = pd.read_csv('links.csv', sep = ',')"
   ]
  },
  {
   "cell_type": "code",
   "execution_count": 36,
   "metadata": {},
   "outputs": [],
   "source": [
    "cookies = {'showmeaning':'off','translit':'isr','hebstyle':'bp'}"
   ]
  },
  {
   "cell_type": "code",
   "execution_count": 37,
   "metadata": {},
   "outputs": [],
   "source": [
    "res = []"
   ]
  },
  {
   "cell_type": "code",
   "execution_count": 38,
   "metadata": {},
   "outputs": [],
   "source": [
    "for link in links['Link']:\n",
    "    req = requests.get('https://www.pealim.com' + link, cookies=cookies)\n",
    "    if req.status_code == 521:\n",
    "        print(error_msg)\n",
    "        print(link)\n",
    "        break\n",
    "    verb_description = []\n",
    "    parser = bs4.BeautifulSoup(req.text, 'lxml')\n",
    "    p = parser.find('b')\n",
    "    verb_description.append('https://www.pealim.com' + link)\n",
    "    verb_description.append(p.text)\n",
    "    div = parser.find('div',attrs={'class' : 'lead'})\n",
    "    verb_description.append(div.text)\n",
    "    tds =  parser.findAll('td',attrs={'class' : 'conj-td'})\n",
    "    for td in tds:\n",
    "        div = td.find('span',attrs={'class' : 'menukad'})\n",
    "        verb_description.append(div.text)\n",
    "    verb_description.append(parser.find('span',attrs={'class' : 'menukad'}).find('a').text) # root\n",
    "    res.append(verb_description)"
   ]
  },
  {
   "cell_type": "code",
   "execution_count": 39,
   "metadata": {},
   "outputs": [],
   "source": [
    "res = pd.DataFrame(res)"
   ]
  },
  {
   "cell_type": "code",
   "execution_count": 40,
   "metadata": {},
   "outputs": [],
   "source": [
    "res = res.sort_values(by = [1]) # sort by binyan\n",
    "res.to_csv('res.csv',sep = ';')"
   ]
  }
 ],
 "metadata": {
  "kernelspec": {
   "display_name": "Python 3",
   "language": "python",
   "name": "python3"
  },
  "language_info": {
   "codemirror_mode": {
    "name": "ipython",
    "version": 3
   },
   "file_extension": ".py",
   "mimetype": "text/x-python",
   "name": "python",
   "nbconvert_exporter": "python",
   "pygments_lexer": "ipython3",
   "version": "3.7.6"
  }
 },
 "nbformat": 4,
 "nbformat_minor": 4
}
