{
 "cells": [
  {
   "cell_type": "code",
   "execution_count": 1,
   "metadata": {},
   "outputs": [],
   "source": [
    "import requests\n",
    "import bs4\n",
    "import time\n",
    "import pandas as pd\n",
    "import re"
   ]
  },
  {
   "cell_type": "code",
   "execution_count": 3,
   "metadata": {},
   "outputs": [],
   "source": [
    "# FILENAME='verbs.csv'"
   ]
  },
  {
   "cell_type": "code",
   "execution_count": 4,
   "metadata": {},
   "outputs": [],
   "source": [
    "# verbs = pd.read_csv('hebrew_verbs.csv', sep = ';')"
   ]
  },
  {
   "cell_type": "code",
   "execution_count": 5,
   "metadata": {},
   "outputs": [],
   "source": [
    "error_msg='BANNED'\n",
    "# pause = 0.1"
   ]
  },
  {
   "cell_type": "code",
   "execution_count": 8,
   "metadata": {},
   "outputs": [],
   "source": [
    "# links = []"
   ]
  },
  {
   "cell_type": "code",
   "execution_count": 9,
   "metadata": {},
   "outputs": [
    {
     "name": "stdout",
     "output_type": "stream",
     "text": [
      "ללעמוד\n",
      "להשתנה\n",
      "להתאחדים\n",
      "להצתייעץ\n"
     ]
    }
   ],
   "source": [
    "# n = 0\n",
    "# for verb in verbs['Verb']:\n",
    "#     if str(verb) != 'nan':\n",
    "#         n += 1\n",
    "#         req = requests.get('https://www.pealim.com/search/?q='+verb)\n",
    "#         if req.status_code == 521:\n",
    "#             print(error_msg)\n",
    "#             print(n)\n",
    "#             break\n",
    "# #         time.sleep(pause)\n",
    "#         parser = bs4.BeautifulSoup(req.text, 'lxml')\n",
    "#         div = parser.find('div',attrs={'class' : 'verb-search-lemma'})\n",
    "#         if div:\n",
    "#             for a in div.children:\n",
    "#                 link = a.get('href')\n",
    "#                 if link:\n",
    "#                     links.append(link)\n",
    "#                 else:\n",
    "#                     print('no link - ' + verb)\n",
    "#         else:\n",
    "#             print(verb)"
   ]
  },
  {
   "cell_type": "code",
   "execution_count": 10,
   "metadata": {},
   "outputs": [],
   "source": [
    "# links = pd.DataFrame(links, columns=['Link'])\n",
    "# links.to_csv('links.csv')"
   ]
  },
  {
   "cell_type": "code",
   "execution_count": 111,
   "metadata": {},
   "outputs": [],
   "source": [
    "links = pd.read_csv('links.csv', sep = ',')"
   ]
  },
  {
   "cell_type": "code",
   "execution_count": 112,
   "metadata": {},
   "outputs": [],
   "source": [
    "cookies = {'showmeaning':'off','translit':'isr','hebstyle':'bp'}"
   ]
  },
  {
   "cell_type": "code",
   "execution_count": 12,
   "metadata": {},
   "outputs": [],
   "source": [
    "# vowel_pattern = re.compile(r\"[\\u0591-\\u05C7]\")\n",
    "# def remove_vowels(text: str) -> str:\n",
    "#     return re.sub(vowel_pattern, \"\", text)"
   ]
  },
  {
   "cell_type": "code",
   "execution_count": 113,
   "metadata": {},
   "outputs": [],
   "source": [
    "res = []"
   ]
  },
  {
   "cell_type": "code",
   "execution_count": 114,
   "metadata": {},
   "outputs": [],
   "source": [
    "for link in links['Link']:\n",
    "    req = requests.get('https://www.pealim.com' + link, cookies=cookies)\n",
    "    if req.status_code == 521:\n",
    "        print(error_msg)\n",
    "        print(link)\n",
    "        break\n",
    "    verb_description = []\n",
    "    parser = bs4.BeautifulSoup(req.text, 'lxml')\n",
    "    p = parser.find('b')\n",
    "    verb_description.append('https://www.pealim.com' + link)\n",
    "    verb_description.append(p.text)\n",
    "    div = parser.find('div',attrs={'class' : 'lead'})\n",
    "    verb_description.append(div.text)\n",
    "    tds =  parser.findAll('td',attrs={'class' : 'conj-td'})\n",
    "    for td in tds:\n",
    "        div = td.find('span',attrs={'class' : 'menukad'})\n",
    "        verb_description.append(div.text)\n",
    "    res.append(verb_description)\n",
    "    "
   ]
  },
  {
   "cell_type": "code",
   "execution_count": 115,
   "metadata": {},
   "outputs": [],
   "source": [
    "res = pd.DataFrame(res)\n",
    "res.to_csv('res.csv',sep = ';')"
   ]
  },
  {
   "cell_type": "code",
   "execution_count": 116,
   "metadata": {},
   "outputs": [],
   "source": [
    "res2 = pd.read_csv('res.csv', sep = ';')"
   ]
  }
 ],
 "metadata": {
  "kernelspec": {
   "display_name": "Python 3",
   "language": "python",
   "name": "python3"
  },
  "language_info": {
   "codemirror_mode": {
    "name": "ipython",
    "version": 3
   },
   "file_extension": ".py",
   "mimetype": "text/x-python",
   "name": "python",
   "nbconvert_exporter": "python",
   "pygments_lexer": "ipython3",
   "version": "3.7.6"
  }
 },
 "nbformat": 4,
 "nbformat_minor": 4
}
